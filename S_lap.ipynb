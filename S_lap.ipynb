{
 "cells": [
  {
   "cell_type": "code",
   "execution_count": 26,
   "id": "6d080a80",
   "metadata": {},
   "outputs": [],
   "source": [
    "movie = 'Joker'"
   ]
  },
  {
   "cell_type": "code",
   "execution_count": 27,
   "id": "1511a0c8",
   "metadata": {},
   "outputs": [],
   "source": [
    "rate = 3"
   ]
  },
  {
   "cell_type": "code",
   "execution_count": 28,
   "id": "d24b981d",
   "metadata": {},
   "outputs": [],
   "source": [
    "popularity_score = 72.65"
   ]
  },
  {
   "cell_type": "code",
   "execution_count": 29,
   "id": "8b4e183d",
   "metadata": {
    "scrolled": true
   },
   "outputs": [
    {
     "name": "stdout",
     "output_type": "stream",
     "text": [
      "It is good\n"
     ]
    }
   ],
   "source": [
    "if rate >= 4 and popularity_score > 80:\n",
    "    print(\"Highly recommended\")\n",
    "elif rate >= 3 and popularity_score > 70:\n",
    "    print(\"It is good\")\n",
    "else:\n",
    "    print(\"It is a waste of time\")"
   ]
  },
  {
   "cell_type": "code",
   "execution_count": null,
   "id": "bb227d38",
   "metadata": {},
   "outputs": [],
   "source": []
  }
 ],
 "metadata": {
  "kernelspec": {
   "display_name": "Python 3 (ipykernel)",
   "language": "python",
   "name": "python3"
  },
  "language_info": {
   "codemirror_mode": {
    "name": "ipython",
    "version": 3
   },
   "file_extension": ".py",
   "mimetype": "text/x-python",
   "name": "python",
   "nbconvert_exporter": "python",
   "pygments_lexer": "ipython3",
   "version": "3.9.7"
  }
 },
 "nbformat": 4,
 "nbformat_minor": 5
}
